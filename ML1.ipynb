{
 "cells": [
  {
   "cell_type": "code",
   "execution_count": 79,
   "id": "d1714965-f803-4c91-949a-edb850ebb48b",
   "metadata": {},
   "outputs": [],
   "source": [
    "import numpy as np\n",
    "import pandas as pd\n",
    "import statsmodels.api as sm\n",
    "import matplotlib.pyplot as plt\n",
    "import seaborn as sb\n",
    "%matplotlib inline"
   ]
  },
  {
   "cell_type": "code",
   "execution_count": 81,
   "id": "3d5a7cf3-ff5e-4e98-a9b0-adbfddf6adb3",
   "metadata": {},
   "outputs": [
    {
     "data": {
      "text/html": [
       "<div>\n",
       "<style scoped>\n",
       "    .dataframe tbody tr th:only-of-type {\n",
       "        vertical-align: middle;\n",
       "    }\n",
       "\n",
       "    .dataframe tbody tr th {\n",
       "        vertical-align: top;\n",
       "    }\n",
       "\n",
       "    .dataframe thead th {\n",
       "        text-align: right;\n",
       "    }\n",
       "</style>\n",
       "<table border=\"1\" class=\"dataframe\">\n",
       "  <thead>\n",
       "    <tr style=\"text-align: right;\">\n",
       "      <th></th>\n",
       "      <th>R&amp;D Spend</th>\n",
       "      <th>Administration</th>\n",
       "      <th>Marketing Spend</th>\n",
       "      <th>State</th>\n",
       "      <th>Profit</th>\n",
       "    </tr>\n",
       "  </thead>\n",
       "  <tbody>\n",
       "    <tr>\n",
       "      <th>0</th>\n",
       "      <td>165349.20</td>\n",
       "      <td>136897.80</td>\n",
       "      <td>471784.10</td>\n",
       "      <td>New York</td>\n",
       "      <td>192261.83</td>\n",
       "    </tr>\n",
       "    <tr>\n",
       "      <th>1</th>\n",
       "      <td>162597.70</td>\n",
       "      <td>151377.59</td>\n",
       "      <td>443898.53</td>\n",
       "      <td>California</td>\n",
       "      <td>191792.06</td>\n",
       "    </tr>\n",
       "    <tr>\n",
       "      <th>2</th>\n",
       "      <td>153441.51</td>\n",
       "      <td>101145.55</td>\n",
       "      <td>407934.54</td>\n",
       "      <td>Florida</td>\n",
       "      <td>191050.39</td>\n",
       "    </tr>\n",
       "    <tr>\n",
       "      <th>3</th>\n",
       "      <td>144372.41</td>\n",
       "      <td>118671.85</td>\n",
       "      <td>383199.62</td>\n",
       "      <td>New York</td>\n",
       "      <td>182901.99</td>\n",
       "    </tr>\n",
       "    <tr>\n",
       "      <th>4</th>\n",
       "      <td>142107.34</td>\n",
       "      <td>91391.77</td>\n",
       "      <td>366168.42</td>\n",
       "      <td>Florida</td>\n",
       "      <td>166187.94</td>\n",
       "    </tr>\n",
       "  </tbody>\n",
       "</table>\n",
       "</div>"
      ],
      "text/plain": [
       "   R&D Spend  Administration  Marketing Spend       State     Profit\n",
       "0  165349.20       136897.80        471784.10    New York  192261.83\n",
       "1  162597.70       151377.59        443898.53  California  191792.06\n",
       "2  153441.51       101145.55        407934.54     Florida  191050.39\n",
       "3  144372.41       118671.85        383199.62    New York  182901.99\n",
       "4  142107.34        91391.77        366168.42     Florida  166187.94"
      ]
     },
     "execution_count": 81,
     "metadata": {},
     "output_type": "execute_result"
    }
   ],
   "source": [
    "df=pd.read_csv(\"D:/50_Startups.csv\")\n",
    "df.head(5)"
   ]
  },
  {
   "cell_type": "code",
   "execution_count": 83,
   "id": "8e54fc59-6f8c-4685-a864-858e17944edb",
   "metadata": {},
   "outputs": [],
   "source": [
    "x_features=df.iloc[:,:3]"
   ]
  },
  {
   "cell_type": "code",
   "execution_count": 85,
   "id": "9a6456cf-22c6-4bb6-83ca-e87318ca16a2",
   "metadata": {},
   "outputs": [],
   "source": [
    "x = sm.add_constant(x_features)\n",
    "y=df['Profit']"
   ]
  },
  {
   "cell_type": "code",
   "execution_count": 87,
   "id": "cc50a158-d566-4e98-9a38-3718fed05273",
   "metadata": {},
   "outputs": [],
   "source": [
    "from sklearn.model_selection import train_test_split\n",
    "train_x, test_x, train_y,test_y = train_test_split(x,y,train_size = 0.8)"
   ]
  },
  {
   "cell_type": "code",
   "execution_count": 89,
   "id": "17c0ecad-eb92-49fe-bed5-7c4263fb670d",
   "metadata": {},
   "outputs": [
    {
     "data": {
      "text/html": [
       "<table class=\"simpletable\">\n",
       "<tr>\n",
       "        <td>Model:</td>               <td>OLS</td>         <td>Adj. R-squared:</td>      <td>0.941</td>  \n",
       "</tr>\n",
       "<tr>\n",
       "  <td>Dependent Variable:</td>      <td>Profit</td>             <td>AIC:</td>          <td>850.1346</td> \n",
       "</tr>\n",
       "<tr>\n",
       "         <td>Date:</td>        <td>2024-12-05 16:18</td>        <td>BIC:</td>          <td>856.8901</td> \n",
       "</tr>\n",
       "<tr>\n",
       "   <td>No. Observations:</td>         <td>40</td>          <td>Log-Likelihood:</td>     <td>-421.07</td> \n",
       "</tr>\n",
       "<tr>\n",
       "       <td>Df Model:</td>              <td>3</td>           <td>F-statistic:</td>        <td>208.3</td>  \n",
       "</tr>\n",
       "<tr>\n",
       "     <td>Df Residuals:</td>           <td>36</td>        <td>Prob (F-statistic):</td>  <td>8.47e-23</td> \n",
       "</tr>\n",
       "<tr>\n",
       "      <td>R-squared:</td>            <td>0.946</td>            <td>Scale:</td>        <td>9.0499e+07</td>\n",
       "</tr>\n",
       "</table>\n",
       "<table class=\"simpletable\">\n",
       "<tr>\n",
       "         <td></td>            <th>Coef.</th>   <th>Std.Err.</th>     <th>t</th>     <th>P>|t|</th>   <th>[0.025</th>     <th>0.975]</th>  \n",
       "</tr>\n",
       "<tr>\n",
       "  <th>const</th>           <td>50268.0807</td> <td>7006.3785</td> <td>7.1746</td>  <td>0.0000</td> <td>36058.4864</td> <td>64477.6750</td>\n",
       "</tr>\n",
       "<tr>\n",
       "  <th>R&D Spend</th>         <td>0.8273</td>    <td>0.0508</td>   <td>16.2847</td> <td>0.0000</td>   <td>0.7243</td>     <td>0.9303</td>  \n",
       "</tr>\n",
       "<tr>\n",
       "  <th>Administration</th>    <td>-0.0420</td>   <td>0.0545</td>   <td>-0.7713</td> <td>0.4456</td>   <td>-0.1525</td>    <td>0.0684</td>  \n",
       "</tr>\n",
       "<tr>\n",
       "  <th>Marketing Spend</th>   <td>0.0218</td>    <td>0.0186</td>   <td>1.1738</td>  <td>0.2482</td>   <td>-0.0158</td>    <td>0.0594</td>  \n",
       "</tr>\n",
       "</table>\n",
       "<table class=\"simpletable\">\n",
       "<tr>\n",
       "     <td>Omnibus:</td>    <td>11.757</td>  <td>Durbin-Watson:</td>    <td>1.738</td> \n",
       "</tr>\n",
       "<tr>\n",
       "  <td>Prob(Omnibus):</td>  <td>0.003</td> <td>Jarque-Bera (JB):</td> <td>13.862</td> \n",
       "</tr>\n",
       "<tr>\n",
       "       <td>Skew:</td>     <td>-0.905</td>     <td>Prob(JB):</td>      <td>0.001</td> \n",
       "</tr>\n",
       "<tr>\n",
       "     <td>Kurtosis:</td>    <td>5.246</td>  <td>Condition No.:</td>   <td>1294283</td>\n",
       "</tr>\n",
       "</table><br/>\n",
       "Notes:<br/>\n",
       "[1] Standard Errors assume that the covariance matrix of the errors is correctly specified.<br/>\n",
       "[2] The condition number is large, 1.29e+06. This might indicate                that there are strong multicollinearity or other numerical                problems."
      ],
      "text/latex": [
       "\\begin{table}\n",
       "\\caption{Results: Ordinary least squares}\n",
       "\\label{}\n",
       "\\begin{center}\n",
       "\\begin{tabular}{llll}\n",
       "\\hline\n",
       "Model:              & OLS              & Adj. R-squared:     & 0.941       \\\\\n",
       "Dependent Variable: & Profit           & AIC:                & 850.1346    \\\\\n",
       "Date:               & 2024-12-05 16:18 & BIC:                & 856.8901    \\\\\n",
       "No. Observations:   & 40               & Log-Likelihood:     & -421.07     \\\\\n",
       "Df Model:           & 3                & F-statistic:        & 208.3       \\\\\n",
       "Df Residuals:       & 36               & Prob (F-statistic): & 8.47e-23    \\\\\n",
       "R-squared:          & 0.946            & Scale:              & 9.0499e+07  \\\\\n",
       "\\hline\n",
       "\\end{tabular}\n",
       "\\end{center}\n",
       "\n",
       "\\begin{center}\n",
       "\\begin{tabular}{lrrrrrr}\n",
       "\\hline\n",
       "                &      Coef. &  Std.Err. &       t & P$> |$t$|$ &     [0.025 &     0.975]  \\\\\n",
       "\\hline\n",
       "const           & 50268.0807 & 7006.3785 &  7.1746 &      0.0000 & 36058.4864 & 64477.6750  \\\\\n",
       "R\\&D Spend      &     0.8273 &    0.0508 & 16.2847 &      0.0000 &     0.7243 &     0.9303  \\\\\n",
       "Administration  &    -0.0420 &    0.0545 & -0.7713 &      0.4456 &    -0.1525 &     0.0684  \\\\\n",
       "Marketing Spend &     0.0218 &    0.0186 &  1.1738 &      0.2482 &    -0.0158 &     0.0594  \\\\\n",
       "\\hline\n",
       "\\end{tabular}\n",
       "\\end{center}\n",
       "\n",
       "\\begin{center}\n",
       "\\begin{tabular}{llll}\n",
       "\\hline\n",
       "Omnibus:       & 11.757 & Durbin-Watson:    & 1.738    \\\\\n",
       "Prob(Omnibus): & 0.003  & Jarque-Bera (JB): & 13.862   \\\\\n",
       "Skew:          & -0.905 & Prob(JB):         & 0.001    \\\\\n",
       "Kurtosis:      & 5.246  & Condition No.:    & 1294283  \\\\\n",
       "\\hline\n",
       "\\end{tabular}\n",
       "\\end{center}\n",
       "\\end{table}\n",
       "\\bigskip\n",
       "Notes: \\newline \n",
       "[1] Standard Errors assume that the covariance matrix of the errors is correctly specified. \\newline \n",
       "[2] The condition number is large, 1.29e+06. This might indicate                that there are strong multicollinearity or other numerical                problems."
      ],
      "text/plain": [
       "<class 'statsmodels.iolib.summary2.Summary'>\n",
       "\"\"\"\n",
       "                     Results: Ordinary least squares\n",
       "=========================================================================\n",
       "Model:                OLS                Adj. R-squared:       0.941     \n",
       "Dependent Variable:   Profit             AIC:                  850.1346  \n",
       "Date:                 2024-12-05 16:18   BIC:                  856.8901  \n",
       "No. Observations:     40                 Log-Likelihood:       -421.07   \n",
       "Df Model:             3                  F-statistic:          208.3     \n",
       "Df Residuals:         36                 Prob (F-statistic):   8.47e-23  \n",
       "R-squared:            0.946              Scale:                9.0499e+07\n",
       "-------------------------------------------------------------------------\n",
       "                  Coef.     Std.Err.    t    P>|t|    [0.025     0.975]  \n",
       "-------------------------------------------------------------------------\n",
       "const           50268.0807 7006.3785  7.1746 0.0000 36058.4864 64477.6750\n",
       "R&D Spend           0.8273    0.0508 16.2847 0.0000     0.7243     0.9303\n",
       "Administration     -0.0420    0.0545 -0.7713 0.4456    -0.1525     0.0684\n",
       "Marketing Spend     0.0218    0.0186  1.1738 0.2482    -0.0158     0.0594\n",
       "-------------------------------------------------------------------------\n",
       "Omnibus:                 11.757         Durbin-Watson:            1.738  \n",
       "Prob(Omnibus):           0.003          Jarque-Bera (JB):         13.862 \n",
       "Skew:                    -0.905         Prob(JB):                 0.001  \n",
       "Kurtosis:                5.246          Condition No.:            1294283\n",
       "=========================================================================\n",
       "Notes:\n",
       "[1] Standard Errors assume that the covariance matrix of the errors is\n",
       "correctly specified.\n",
       "[2] The condition number is large, 1.29e+06. This might indicate\n",
       "that there are strong multicollinearity or other numerical\n",
       "problems.\n",
       "\"\"\""
      ]
     },
     "execution_count": 89,
     "metadata": {},
     "output_type": "execute_result"
    }
   ],
   "source": [
    "df = sm.OLS(train_y, train_x).fit()\n",
    "df.summary2()"
   ]
  },
  {
   "cell_type": "code",
   "execution_count": 91,
   "id": "8dfc7b8d-2e44-4f14-808d-20d9d96405b8",
   "metadata": {},
   "outputs": [
    {
     "name": "stdout",
     "output_type": "stream",
     "text": [
      "0.9613244721620445\n",
      "8735.006772236435\n"
     ]
    }
   ],
   "source": [
    "pred_y=df.predict(test_x)\n",
    "from sklearn.metrics import r2_score,mean_squared_error\n",
    "print(np.abs(r2_score(test_y,pred_y)))\n",
    "print(np.sqrt(mean_squared_error(test_y,pred_y)))"
   ]
  },
  {
   "cell_type": "code",
   "execution_count": 99,
   "id": "e8f6316d-93b6-4b19-b2a0-6bc6ea1dafd2",
   "metadata": {
    "scrolled": true
   },
   "outputs": [
    {
     "data": {
      "image/png": "[encoded data removed]",
      "text/plain": [
       "<Figure size 1000x1000 with 2 Axes>"
      ]
     },
     "metadata": {},
     "output_type": "display_data"
    }
   ],
   "source": [
    "plt.figure(figsize =(10,10))\n",
    "sb.heatmap(x.corr(),annot=True,cmap=\"RdYlGn\")\n",
    "plt.show()"
   ]
  },
  {
   "cell_type": "code",
   "execution_count": null,
   "id": "f581932b-a7db-4c49-b395-516f0f513a80",
   "metadata": {},
   "outputs": [],
   "source": []
  },
  {
   "cell_type": "code",
   "execution_count": null,
   "id": "aab21784-2495-4bb0-844f-ef29eb3aeedd",
   "metadata": {},
   "outputs": [],
   "source": []
  }
 ],
 "metadata": {
  "kernelspec": {
   "display_name": "Python 3 (ipykernel)",
   "language": "python",
   "name": "python3"
  },
  "language_info": {
   "codemirror_mode": {
    "name": "ipython",
    "version": 3
   },
   "file_extension": ".py",
   "mimetype": "text/x-python",
   "name": "python",
   "nbconvert_exporter": "python",
   "pygments_lexer": "ipython3",
   "version": "3.12.7"
  }
 },
 "nbformat": 4,
 "nbformat_minor": 5
}
