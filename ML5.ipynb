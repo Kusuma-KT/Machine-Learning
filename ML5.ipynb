{
 "cells": [
  {
   "cell_type": "code",
   "execution_count": 7,
   "id": "f0f7abda-4ede-4493-a887-b368b35a0182",
   "metadata": {},
   "outputs": [
    {
     "name": "stdin",
     "output_type": "stream",
     "text": [
      "enter number of rows in matrix 1 2\n",
      "enter the number of columns in matrix 1 2\n",
      "enter the number of rows in matrix 2 2\n",
      "enter the number of columns in matrix 2 2\n"
     ]
    },
    {
     "name": "stdout",
     "output_type": "stream",
     "text": [
      "enter the elements of matrix 1\n"
     ]
    },
    {
     "name": "stdin",
     "output_type": "stream",
     "text": [
      " 2 3 4 5\n"
     ]
    },
    {
     "name": "stdout",
     "output_type": "stream",
     "text": [
      "enter the elements of matrix 2\n"
     ]
    },
    {
     "name": "stdin",
     "output_type": "stream",
     "text": [
      " 2 3 4 5\n"
     ]
    },
    {
     "name": "stdout",
     "output_type": "stream",
     "text": [
      "product of matrix\n",
      "[[16 21]\n",
      " [28 37]]\n"
     ]
    }
   ],
   "source": [
    "import numpy as np\n",
    "rows1=int(input(\"enter number of rows in matrix 1\"))\n",
    "columns1=int(input(\"enter the number of columns in matrix 1\"))\n",
    "rows2=int(input(\"enter the number of rows in matrix 2\"))\n",
    "columns2=int(input(\"enter the number of columns in matrix 2\"))\n",
    "if(columns2!=rows1):\n",
    "  print(\"Multiplication not possible\")\n",
    "else:\n",
    "  print(\"enter the elements of matrix 1\")\n",
    "  elements1=list(map(int,input().split()))\n",
    "  print(\"enter the elements of matrix 2\")\n",
    "  elements2=list(map(int,input().split()))\n",
    "  mat1=np.array(elements1).reshape(rows1,columns1)\n",
    "  mat2=np.array(elements1).reshape(rows2,columns2)\n",
    "  print(\"product of matrix\")\n",
    "  print(np.dot(mat1,mat2))"
   ]
  },
  {
   "cell_type": "code",
   "execution_count": 9,
   "id": "4daa0692-e459-4920-8761-42f2abb3c5c4",
   "metadata": {},
   "outputs": [
    {
     "name": "stdin",
     "output_type": "stream",
     "text": [
      "enter the value for n:  2\n"
     ]
    },
    {
     "name": "stdout",
     "output_type": "stream",
     "text": [
      "enter the value for square matrix\n"
     ]
    },
    {
     "name": "stdin",
     "output_type": "stream",
     "text": [
      " 1 2 3 4\n"
     ]
    },
    {
     "name": "stdout",
     "output_type": "stream",
     "text": [
      "the iput matrix is [[1 2]\n",
      " [3 4]]\n",
      "Determinat is:  -2.0\n",
      "Eigen value is:  [-0.37228132+0.j  5.37228132+0.j]\n",
      "Determinant is:  [[-0.82456484 -0.41597356]\n",
      " [ 0.56576746 -0.90937671]]\n"
     ]
    }
   ],
   "source": [
    "from scipy import linalg\n",
    "import numpy as np\n",
    "n=int(input(\"enter the value for n: \"))\n",
    "print(\"enter the value for square matrix\")\n",
    "elements=list(map(int,input().split()))\n",
    "mat1=np.array(elements).reshape(n,n)\n",
    "print(\"the iput matrix is\",mat1)\n",
    "print(\"Determinat is: \",linalg.det(mat1))\n",
    "eg_val, eg_vect=linalg.eig(mat1)\n",
    "print(\"Eigen value is: \",eg_val)\n",
    "print(\"Determinant is: \",eg_vect)"
   ]
  },
  {
   "cell_type": "code",
   "execution_count": null,
   "id": "294e527e-70a2-4f2c-b9d7-b4db18b81b80",
   "metadata": {},
   "outputs": [],
   "source": []
  }
 ],
 "metadata": {
  "kernelspec": {
   "display_name": "Python 3 (ipykernel)",
   "language": "python",
   "name": "python3"
  },
  "language_info": {
   "codemirror_mode": {
    "name": "ipython",
    "version": 3
   },
   "file_extension": ".py",
   "mimetype": "text/x-python",
   "name": "python",
   "nbconvert_exporter": "python",
   "pygments_lexer": "ipython3",
   "version": "3.12.7"
  }
 },
 "nbformat": 4,
 "nbformat_minor": 5
}
