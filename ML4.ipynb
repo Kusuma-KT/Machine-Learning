{
 "cells": [
  {
   "cell_type": "code",
   "execution_count": 1,
   "id": "8bcb794a-a7c8-4616-802c-e61bd13f0a46",
   "metadata": {},
   "outputs": [
    {
     "name": "stdin",
     "output_type": "stream",
     "text": [
      "Enter the value for n 6\n",
      "Enter the value for r 2\n"
     ]
    },
    {
     "name": "stdout",
     "output_type": "stream",
     "text": [
      "The permutation of 6 2 is: \n",
      "30.0\n",
      "The combination of 6 2 is: \n",
      "60.0\n"
     ]
    }
   ],
   "source": [
    "import math\n",
    "from scipy.special import perm,comb\n",
    "n=int(input(\"Enter the value for n\"))\n",
    "r=int(input(\"Enter the value for r\"))\n",
    "def permutation(n,r):\n",
    "   return math.factorial(n)/math.factorial(n-r)\n",
    "def combination(n,r):\n",
    "   return math.factorial(n)/math.factorial(n-r)*math.factorial(r)\n",
    "print(\"The permutation of\",n,r,\"is: \")\n",
    "print(permutation(n,r))\n",
    "print(\"The combination of\",n,r,\"is: \")\n",
    "print(combination(n,r))"
   ]
  },
  {
   "cell_type": "code",
   "execution_count": null,
   "id": "1c4a66d4-92a0-456e-a4f0-577381248c6f",
   "metadata": {},
   "outputs": [],
   "source": []
  }
 ],
 "metadata": {
  "kernelspec": {
   "display_name": "Python 3 (ipykernel)",
   "language": "python",
   "name": "python3"
  },
  "language_info": {
   "codemirror_mode": {
    "name": "ipython",
    "version": 3
   },
   "file_extension": ".py",
   "mimetype": "text/x-python",
   "name": "python",
   "nbconvert_exporter": "python",
   "pygments_lexer": "ipython3",
   "version": "3.12.7"
  }
 },
 "nbformat": 4,
 "nbformat_minor": 5
}
