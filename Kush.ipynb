{
 "cells": [
  {
   "cell_type": "code",
   "execution_count": 7,
   "id": "90511a6f-1702-4a14-92e4-9b241293f681",
   "metadata": {},
   "outputs": [
    {
     "name": "stdout",
     "output_type": "stream",
     "text": [
      "Employee Details\n",
      "Name:john\n",
      "Name:ada\n",
      "Name:bob\n",
      "total_salary:18000is total salary of all\n",
      "6000.0is average salary of all\n"
     ]
    }
   ],
   "source": [
    "employees=[\n",
    "    {\"name\":\"john\",\"salary\":5000},\n",
    "    {\"name\":\"ada\",\"salary\":6000},\n",
    "    {\"name\":\"bob\",\"salary\":7000},\n",
    "]\n",
    "total_salary=sum(emp[\"salary\"]for emp in employees)\n",
    "average_salary=total_salary/len(employees)\n",
    "print(\"Employee Details\")\n",
    "for emp in employees:\n",
    "    print(f\"Name:{emp['name']}\")\n",
    "print(f\"total_salary:{total_salary}is total salary of all\")\n",
    "print(f\"{average_salary}is average salary of all\")"
   ]
  },
  {
   "cell_type": "code",
   "execution_count": null,
   "id": "75882485-f771-4d60-99f3-52379a9e272f",
   "metadata": {},
   "outputs": [],
   "source": []
  }
 ],
 "metadata": {
  "kernelspec": {
   "display_name": "Python 3 (ipykernel)",
   "language": "python",
   "name": "python3"
  },
  "language_info": {
   "codemirror_mode": {
    "name": "ipython",
    "version": 3
   },
   "file_extension": ".py",
   "mimetype": "text/x-python",
   "name": "python",
   "nbconvert_exporter": "python",
   "pygments_lexer": "ipython3",
   "version": "3.12.7"
  }
 },
 "nbformat": 4,
 "nbformat_minor": 5
}
